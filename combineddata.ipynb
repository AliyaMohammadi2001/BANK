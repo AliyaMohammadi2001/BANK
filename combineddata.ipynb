{
 "cells": [
  {
   "cell_type": "code",
   "execution_count": 5,
   "id": "a7eb414f-5771-45fa-bec4-7404a758d88c",
   "metadata": {},
   "outputs": [
    {
     "name": "stdout",
     "output_type": "stream",
     "text": [
      "Combined file saved as Combined_IFSC.xlsx\n"
     ]
    }
   ],
   "source": [
    "import pandas as pd\n",
    "\n",
    "# Load the Excel file\n",
    "file_path = \"ConsolidatedIndianFinancialSystemCode.xlsx\"\n",
    "\n",
    "# Read all sheets into a dictionary (sheet_name=None means all sheets)\n",
    "sheet1 = pd.read_excel(file_path, sheet_name=0)\n",
    "sheet2 = pd.read_excel(file_path, sheet_name=1)\n",
    "\n",
    "# Combine all sheets into one DataFrame\n",
    "combined_df = pd.concat([sheet1,sheet2], ignore_index=True)\n",
    "\n",
    "# ✅ Write to Excel\n",
    "combined_df.to_csv(\"Combined_IFSC1.csv\", index=False)\n",
    "\n",
    "print(\"Combined file saved as Combined_IFSC.xlsx\")\n"
   ]
  },
  {
   "cell_type": "code",
   "execution_count": null,
   "id": "0a3426f2-4c00-405e-9915-2b479ef7c667",
   "metadata": {},
   "outputs": [],
   "source": []
  }
 ],
 "metadata": {
  "kernelspec": {
   "display_name": "Python [conda env:base] *",
   "language": "python",
   "name": "conda-base-py"
  },
  "language_info": {
   "codemirror_mode": {
    "name": "ipython",
    "version": 3
   },
   "file_extension": ".py",
   "mimetype": "text/x-python",
   "name": "python",
   "nbconvert_exporter": "python",
   "pygments_lexer": "ipython3",
   "version": "3.13.5"
  }
 },
 "nbformat": 4,
 "nbformat_minor": 5
}
